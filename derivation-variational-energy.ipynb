{
 "cells": [
  {
   "cell_type": "markdown",
   "metadata": {},
   "source": [
    "Here I will derive the equations and parameters for the variational energy of the system. I will also derive the equations for the variational energy of the system with the inclusion of the external field.\n",
    "The system under study is the mixture of 39K atoms in different hiperfine states in a harmonic trap. \n",
    "\n",
    "The trap is described by the following Hamiltonian:\n",
    "$$H_{\\rm trap} = \\frac{1}{2}m\\omega_{z}^2z^2$$\n",
    "\n",
    "The $a_{\\rm} = \\sqrt{\\hbar / (m\\omega_{z})}$ is the harmonic oscillator length, and it is equal to 0.639 $\\mu m$ in the Leticia's experiment.\n",
    "\n",
    "\n",
    "$$H_{\\rm trap} = \\frac{\\hbar^2}{2 m a_{11}^2} \\left(a_{11} / a_{\\rm ho}\\right)^4 \\left( z / a_{11} \\right)^2$$\n",
    "\n",
    "Since the QMC energies are given in terms of the $\\frac{\\hbar^2}{2 m a_{11}^2}$, the trap energy is given by: \n",
    "\n",
    "$$H_{\\rm trap} =  \\left(a_{11} / a_{\\rm ho}\\right)^4 z ^2$$\n",
    "\n",
    "Finally, the full energy density is given by:\n",
    "$$\n",
    "\\mathcal{E} = \\mathcal{E}_{\\rm kin} +  \\left(a_{11} / a_{\\rm ho}\\right)^4 z ^2 \\rho + \\alpha \\rho^2 + \\beta\\rho^{\\gamma+1}\n",
    "$$\n",
    "where $\\rho$ is the density of the atoms in the trap, $\\alpha$, $\\beta$ and $\\gamma$ are the parameters of the QMC fit, and $\\mathcal{E}_{\\rm kin}$ is the kinetic energy of the atoms.\n",
    "\n",
    "Let's now derive the variational energy for the density $\\rho$ that is a Gaussian function of the position $z$ and radial direction $r$. The Gaussian function is given by:\n",
    "$$\n",
    "\\rho(z,r) = \\frac{N}{\\pi^{3/2} \\sigma_z \\sigma_r^2}  \\exp\\left(-\\frac{z^2}{\\sigma_z^2} - \\frac{r^2}{\\sigma_r^2}\\right)\n",
    "$$\n",
    "where $\\sigma$ is the standard deviation of the Gaussian function. \n",
    "This function is normalized to $N$ atoms in the trap, as derived below:"
   ]
  },
  {
   "cell_type": "code",
   "execution_count": 194,
   "metadata": {},
   "outputs": [],
   "source": [
    "from sympy import *"
   ]
  },
  {
   "cell_type": "code",
   "execution_count": 195,
   "metadata": {},
   "outputs": [
    {
     "data": {
      "text/latex": [
       "$\\displaystyle N$"
      ],
      "text/plain": [
       "N"
      ]
     },
     "execution_count": 195,
     "metadata": {},
     "output_type": "execute_result"
    }
   ],
   "source": [
    "N, sigma_z, sigma_r, z, r = symbols('N, sigma_z, sigma_r, z, r', real=True)\n",
    "rho = N * exp(-z**2/sigma_z**2 ) * exp(-r**2/sigma_r**2) / (pi**(3/2) * sigma_z * sigma_r**2)\n",
    "int_1 = integrate(rho * 2*pi*r, (r, 0, oo),conds='none')\n",
    "int_2 = integrate(int_1, (z, -oo, oo),conds='none')\n",
    "int_2"
   ]
  },
  {
   "cell_type": "markdown",
   "metadata": {},
   "source": [
    "Now let's derive the energy of the system. \n",
    "\n",
    "Let's first derive the kinetic energy of the system. "
   ]
  },
  {
   "cell_type": "code",
   "execution_count": 196,
   "metadata": {},
   "outputs": [
    {
     "data": {
      "text/latex": [
       "$\\displaystyle \\frac{1.0 N^{1.0}}{\\sigma_{r}^{2.0}} + \\frac{0.5 N^{1.0}}{\\sigma_{z}^{2.0}}$"
      ],
      "text/plain": [
       "1.0*N**1.0/sigma_r**2.0 + 0.5*N**1.0/sigma_z**2.0"
      ]
     },
     "execution_count": 196,
     "metadata": {},
     "output_type": "execute_result"
    }
   ],
   "source": [
    "psi = log(rho**0.5)\n",
    "psi = expand_log(psi, force=True)\n",
    "psi_original = exp(psi)\n",
    "psi_z = diff(psi_original, z)\n",
    "psi_z = diff(psi_z, z)\n",
    "psi_r = diff(r * diff(psi_original, r), r) / r\n",
    "laplace_psi = -(psi_r + psi_z)\n",
    "kin_en_local = laplace_psi * psi_original\n",
    "kin_en_local = kin_en_local.expand()\n",
    "kin_en_local = integrate(kin_en_local * 2*pi*r, (r, 0, oo),conds='none')\n",
    "kin_en_local = integrate(kin_en_local, (z, -oo, oo),conds='none')\n",
    "kin_en_local"
   ]
  },
  {
   "cell_type": "markdown",
   "metadata": {},
   "source": [
    "Harmonic term: "
   ]
  },
  {
   "cell_type": "code",
   "execution_count": 197,
   "metadata": {},
   "outputs": [
    {
     "data": {
      "text/latex": [
       "$\\displaystyle \\frac{N a_{11}^{4} z^{2} e^{- \\frac{r^{2}}{\\sigma_{r}^{2}}} e^{- \\frac{z^{2}}{\\sigma_{z}^{2}}}}{\\pi^{1.5} a_{ho}^{4} \\sigma_{r}^{2} \\sigma_{z}}$"
      ],
      "text/plain": [
       "N*a_11**4*z**2*exp(-r**2/sigma_r**2)*exp(-z**2/sigma_z**2)/(pi**1.5*a_ho**4*sigma_r**2*sigma_z)"
      ]
     },
     "execution_count": 197,
     "metadata": {},
     "output_type": "execute_result"
    }
   ],
   "source": [
    "a_11, a_ho, alpha, beta, gamma = symbols('a_11, a_ho, alpha, beta, gamma', real=True)\n",
    "\n",
    "en_int = (a_11 / a_ho)**4 * rho * z**2\n",
    "en_int = en_int.expand()\n",
    "en_int"
   ]
  },
  {
   "cell_type": "markdown",
   "metadata": {},
   "source": [
    "Let's integrate the whole thing. Let's start with the harmonic term."
   ]
  },
  {
   "cell_type": "code",
   "execution_count": 198,
   "metadata": {},
   "outputs": [
    {
     "data": {
      "text/latex": [
       "$\\displaystyle \\frac{N a_{11}^{4} \\sigma_{z}^{2}}{2 a_{ho}^{4}}$"
      ],
      "text/plain": [
       "N*a_11**4*sigma_z**2/(2*a_ho**4)"
      ]
     },
     "execution_count": 198,
     "metadata": {},
     "output_type": "execute_result"
    }
   ],
   "source": [
    "int_1 = integrate(en_int * 2*pi*r, (r, 0, oo),conds='none')\n",
    "int_2 = integrate(int_1, (z, -oo, oo),conds='none')\n",
    "int_2"
   ]
  },
  {
   "cell_type": "code",
   "execution_count": 199,
   "metadata": {},
   "outputs": [
    {
     "name": "stdout",
     "output_type": "stream",
     "text": [
      "N*a_11**4*sigma_z**2/(2*a_ho**4)\n"
     ]
    }
   ],
   "source": [
    "print(int_2)"
   ]
  },
  {
   "cell_type": "markdown",
   "metadata": {},
   "source": [
    "The $\\alpha$ term is given by:"
   ]
  },
  {
   "cell_type": "code",
   "execution_count": 200,
   "metadata": {},
   "outputs": [
    {
     "data": {
      "text/latex": [
       "$\\displaystyle \\frac{\\sqrt{2} N^{2} \\alpha}{4 \\pi^{1.5} \\sigma_{r}^{2} \\sigma_{z}}$"
      ],
      "text/plain": [
       "sqrt(2)*N**2*alpha/(4*pi**1.5*sigma_r**2*sigma_z)"
      ]
     },
     "execution_count": 200,
     "metadata": {},
     "output_type": "execute_result"
    }
   ],
   "source": [
    "en_int = alpha * rho**2\n",
    "int_1 = integrate(en_int * 2*pi*r, (r, 0, oo),conds='none')\n",
    "int_2 = integrate(int_1, (z, -oo, oo),conds='none')\n",
    "int_2"
   ]
  },
  {
   "cell_type": "code",
   "execution_count": 131,
   "metadata": {},
   "outputs": [
    {
     "name": "stdout",
     "output_type": "stream",
     "text": [
      "sqrt(2)*N**2*alpha/(4*pi**1.5*sigma_r**2*sigma_z)\n"
     ]
    }
   ],
   "source": [
    "print(int_2)"
   ]
  },
  {
   "cell_type": "code",
   "execution_count": 201,
   "metadata": {},
   "outputs": [
    {
     "data": {
      "text/latex": [
       "$\\displaystyle \\beta \\left(\\frac{N e^{- \\frac{r^{2}}{\\sigma_{r}^{2}}} e^{- \\frac{z^{2}}{\\sigma_{z}^{2}}}}{\\pi^{1.5} \\sigma_{r}^{2} \\sigma_{z}}\\right)^{\\gamma + 1}$"
      ],
      "text/plain": [
       "beta*(N*exp(-r**2/sigma_r**2)*exp(-z**2/sigma_z**2)/(pi**1.5*sigma_r**2*sigma_z))**(gamma + 1)"
      ]
     },
     "execution_count": 201,
     "metadata": {},
     "output_type": "execute_result"
    }
   ],
   "source": [
    "en_int = beta * rho**(gamma + 1)\n",
    "en_int"
   ]
  },
  {
   "cell_type": "code",
   "execution_count": 202,
   "metadata": {},
   "outputs": [
    {
     "data": {
      "text/latex": [
       "$\\displaystyle \\frac{N \\beta e^{- 1.5 \\gamma \\log{\\left(\\pi \\right)}} e^{\\gamma \\log{\\left(N \\right)}} e^{- 2 \\gamma \\log{\\left(\\sigma_{r} \\right)}} e^{- \\gamma \\log{\\left(\\sigma_{z} \\right)}} \\int\\limits_{-\\infty}^{\\infty} e^{- \\frac{z^{2}}{\\sigma_{z}^{2}}} e^{- \\frac{\\gamma z^{2}}{\\sigma_{z}^{2}}}\\, dz}{\\pi^{0.5} \\sigma_{z} \\left(\\gamma + 1\\right)}$"
      ],
      "text/plain": [
       "N*beta*exp(-1.5*gamma*log(pi))*exp(gamma*log(N))*exp(-2*gamma*log(sigma_r))*exp(-gamma*log(sigma_z))*Integral(exp(-z**2/sigma_z**2)*exp(-gamma*z**2/sigma_z**2), (z, -oo, oo))/(pi**0.5*sigma_z*(gamma + 1))"
      ]
     },
     "execution_count": 202,
     "metadata": {},
     "output_type": "execute_result"
    }
   ],
   "source": [
    "en_int = log(en_int)\n",
    "en_int = expand_log(en_int, force=True)\n",
    "en_int = en_int.expand()\n",
    "en_int = exp(en_int)\n",
    "en_int = expand_power_exp(en_int)\n",
    "int_1 = integrate(en_int * 2*pi*r, (r, 0, oo),conds='none')\n",
    "# int_1\n",
    "int_2 = integrate(int_1, (z, -oo, oo),conds='none')\n",
    "int_2"
   ]
  },
  {
   "cell_type": "code",
   "execution_count": 203,
   "metadata": {},
   "outputs": [
    {
     "data": {
      "text/plain": [
       "defaultdict(int,\n",
       "            {N*beta*exp(-1.5*gamma*log(pi))*exp(gamma*log(N))*exp(-2*gamma*log(sigma_r))*exp(-gamma*log(sigma_z))*Integral(exp(-z**2/sigma_z**2)*exp(-gamma*z**2/sigma_z**2), (z, -oo, oo))/(pi**0.5*sigma_z*(gamma + 1)): 1})"
      ]
     },
     "execution_count": 203,
     "metadata": {},
     "output_type": "execute_result"
    }
   ],
   "source": [
    "# Sympy cannot handle the following integral, so let's print it out and do it by hand\n",
    "int_2.as_coefficients_dict()\n"
   ]
  },
  {
   "cell_type": "code",
   "execution_count": 204,
   "metadata": {},
   "outputs": [
    {
     "data": {
      "text/latex": [
       "$\\displaystyle \\frac{N \\beta \\left(\\frac{N}{\\pi^{1.5} \\sigma_{r}^{2} \\sigma_{z}}\\right)^{\\gamma}}{\\left(\\gamma + 1\\right)^{\\frac{3}{2}}}$"
      ],
      "text/plain": [
       "N*beta*(N/(pi**1.5*sigma_r**2*sigma_z))**gamma/(gamma + 1)**(3/2)"
      ]
     },
     "execution_count": 204,
     "metadata": {},
     "output_type": "execute_result"
    }
   ],
   "source": [
    "\n",
    "int_1 = N*beta*exp(-1.5*gamma*log(pi))*exp(gamma*log(N))*exp(-2*gamma*log(sigma_r))*exp(-gamma*log(sigma_z)) / (pi**0.5*sigma_z*(gamma + 1)) * exp(-z**2/sigma_z**2)*exp(-gamma*z**2/sigma_z**2)\n",
    "int_2 = integrate(int_1, (z, -oo, oo),conds='none')\n",
    "int_2\n"
   ]
  },
  {
   "cell_type": "code",
   "execution_count": 205,
   "metadata": {},
   "outputs": [
    {
     "name": "stdout",
     "output_type": "stream",
     "text": [
      "N*beta*(N/(pi**1.5*sigma_r**2*sigma_z))**gamma/(gamma + 1)**(3/2)\n"
     ]
    }
   ],
   "source": [
    "print(int_2)"
   ]
  },
  {
   "cell_type": "markdown",
   "metadata": {},
   "source": [
    "# MF+LHY parameters\n"
   ]
  },
  {
   "cell_type": "code",
   "execution_count": 148,
   "metadata": {},
   "outputs": [
    {
     "data": {
      "text/latex": [
       "$\\displaystyle \\frac{25 \\pi^{2} a_{11} \\left|{\\sqrt{\\frac{a_{22}}{a_{11}}} + \\frac{a_{12}}{a_{11}}}\\right|^{3}}{768 a_{22} \\left(\\sqrt{\\frac{a_{22}}{a_{11}}} + 1\\right)^{6}}$"
      ],
      "text/plain": [
       "25*pi**2*a_11*Abs(sqrt(a_22/a_11) + a_12/a_11)**3/(768*a_22*(sqrt(a_22/a_11) + 1)**6)"
      ]
     },
     "execution_count": 148,
     "metadata": {},
     "output_type": "execute_result"
    }
   ],
   "source": [
    "from sympy.physics.units import hbar\n",
    "x, a_11, a_12, a_22 = symbols('x, a_11, a_12, a_22', real=True)\n",
    "\n",
    "en_0 = 25*pi**2 / 768 * abs(a_12 / a_11 + sqrt(a_22/a_11))**3 / (a_22 / a_11 * (1 + sqrt(a_22 / a_11))**6) # Eq. 7 in collision paper. \n",
    "en_0"
   ]
  },
  {
   "cell_type": "code",
   "execution_count": 149,
   "metadata": {},
   "outputs": [
    {
     "data": {
      "text/latex": [
       "$\\displaystyle \\frac{25 \\pi \\left(\\sqrt{\\frac{a_{22}}{a_{11}}} + \\frac{a_{12}}{a_{11}}\\right)^{2}}{1024 \\left(\\frac{a_{22}}{a_{11}}\\right)^{1.5} \\left(\\sqrt{\\frac{a_{22}}{a_{11}}} + 1\\right)^{4}}$"
      ],
      "text/plain": [
       "25*pi*(sqrt(a_22/a_11) + a_12/a_11)**2/(1024*(a_22/a_11)**1.5*(sqrt(a_22/a_11) + 1)**4)"
      ]
     },
     "execution_count": 149,
     "metadata": {},
     "output_type": "execute_result"
    }
   ],
   "source": [
    "rho_0 = 25*pi/1024 * (a_12/a_11 + sqrt(a_22/a_11) )**2 / ((a_22/a_11)**1.5 * (1+sqrt(a_22/a_11))**4)\n",
    "rho_0"
   ]
  },
  {
   "cell_type": "code",
   "execution_count": 150,
   "metadata": {},
   "outputs": [
    {
     "data": {
      "text/latex": [
       "$\\displaystyle - \\frac{4 \\pi a_{11} \\left(\\frac{a_{22}}{a_{11}}\\right)^{1.5} \\left|{\\sqrt{\\frac{a_{22}}{a_{11}}} + \\frac{a_{12}}{a_{11}}}\\right|^{3}}{a_{22} \\left(\\sqrt{\\frac{a_{22}}{a_{11}}} + 1\\right)^{2} \\left(\\sqrt{\\frac{a_{22}}{a_{11}}} + \\frac{a_{12}}{a_{11}}\\right)^{2}}$"
      ],
      "text/plain": [
       "-4*pi*a_11*(a_22/a_11)**1.5*Abs(sqrt(a_22/a_11) + a_12/a_11)**3/(a_22*(sqrt(a_22/a_11) + 1)**2*(sqrt(a_22/a_11) + a_12/a_11)**2)"
      ]
     },
     "execution_count": 150,
     "metadata": {},
     "output_type": "execute_result"
    }
   ],
   "source": [
    "alpha = -3 * en_0 / rho_0\n",
    "alpha "
   ]
  },
  {
   "cell_type": "code",
   "execution_count": 151,
   "metadata": {},
   "outputs": [
    {
     "name": "stdout",
     "output_type": "stream",
     "text": [
      "-4*pi*a_11*(a_22/a_11)**1.5*Abs(sqrt(a_22/a_11) + a_12/a_11)**3/(a_22*(sqrt(a_22/a_11) + 1)**2*(sqrt(a_22/a_11) + a_12/a_11)**2)\n"
     ]
    }
   ],
   "source": [
    "print(alpha)"
   ]
  },
  {
   "cell_type": "code",
   "execution_count": null,
   "metadata": {},
   "outputs": [],
   "source": []
  },
  {
   "cell_type": "code",
   "execution_count": 155,
   "metadata": {},
   "outputs": [
    {
     "data": {
      "text/latex": [
       "$\\displaystyle \\frac{699.050666666667 a_{11} \\left|{\\sqrt{\\frac{a_{22}}{a_{11}}} + \\frac{a_{12}}{a_{11}}}\\right|^{3}}{\\pi^{0.5} a_{22} \\left(\\frac{\\left(\\sqrt{\\frac{a_{22}}{a_{11}}} + \\frac{a_{12}}{a_{11}}\\right)^{2}}{\\left(\\frac{a_{22}}{a_{11}}\\right)^{1.5} \\left(\\sqrt{\\frac{a_{22}}{a_{11}}} + 1\\right)^{4}}\\right)^{2.5} \\left(\\sqrt{\\frac{a_{22}}{a_{11}}} + 1\\right)^{6}}$"
      ],
      "text/plain": [
       "699.050666666667*a_11*Abs(sqrt(a_22/a_11) + a_12/a_11)**3/(pi**0.5*a_22*((sqrt(a_22/a_11) + a_12/a_11)**2/((a_22/a_11)**1.5*(sqrt(a_22/a_11) + 1)**4))**2.5*(sqrt(a_22/a_11) + 1)**6)"
      ]
     },
     "execution_count": 155,
     "metadata": {},
     "output_type": "execute_result"
    }
   ],
   "source": [
    "beta = 2 * en_0 / rho_0**1.5\n",
    "beta"
   ]
  },
  {
   "cell_type": "code",
   "execution_count": 154,
   "metadata": {},
   "outputs": [
    {
     "name": "stdout",
     "output_type": "stream",
     "text": [
      "17.0666666666667*pi**0.5*a_11*Abs(sqrt(a_22/a_11) + a_12/a_11)**3/(a_22*((sqrt(a_22/a_11) + a_12/a_11)**2/((a_22/a_11)**1.5*(sqrt(a_22/a_11) + 1)**4))**1.5*(sqrt(a_22/a_11) + 1)**6)\n"
     ]
    }
   ],
   "source": [
    "print(beta)"
   ]
  },
  {
   "cell_type": "code",
   "execution_count": 161,
   "metadata": {},
   "outputs": [
    {
     "data": {
      "text/latex": [
       "$\\displaystyle \\frac{4 \\pi \\left(2.0 + \\frac{2 a_{12}}{a_{11} \\sqrt{\\frac{a_{22}}{a_{11}}}}\\right)}{\\left(1 + \\frac{1}{\\sqrt{\\frac{a_{22}}{a_{11}}}}\\right)^{2}}$"
      ],
      "text/plain": [
       "4*pi*(2.0 + 2*a_12/(a_11*sqrt(a_22/a_11)))/(1 + 1/sqrt(a_22/a_11))**2"
      ]
     },
     "execution_count": 161,
     "metadata": {},
     "output_type": "execute_result"
    }
   ],
   "source": [
    "alpha = 4*pi*(1.+1 + 2*1*(a_12/a_11)/sqrt(a_22/a_11))/Pow(1 + 1/sqrt(a_22/a_11), 2);\n",
    "beta  = (512*sqrt(pi)/15)*Pow((1+1*sqrt(a_22/a_11)) / (1+1/sqrt(a_22/a_11)), 5./2);\n",
    "alpha"
   ]
  },
  {
   "cell_type": "code",
   "execution_count": 162,
   "metadata": {},
   "outputs": [
    {
     "data": {
      "text/latex": [
       "$\\displaystyle \\frac{512 \\sqrt{\\pi} \\left(\\frac{\\sqrt{\\frac{a_{22}}{a_{11}}} + 1}{1 + \\frac{1}{\\sqrt{\\frac{a_{22}}{a_{11}}}}}\\right)^{2.5}}{15}$"
      ],
      "text/plain": [
       "512*sqrt(pi)*((sqrt(a_22/a_11) + 1)/(1 + 1/sqrt(a_22/a_11)))**2.5/15"
      ]
     },
     "execution_count": 162,
     "metadata": {},
     "output_type": "execute_result"
    }
   ],
   "source": [
    "beta"
   ]
  }
 ],
 "metadata": {
  "kernelspec": {
   "display_name": "Python 3.8.13 ('mlp')",
   "language": "python",
   "name": "python3"
  },
  "language_info": {
   "codemirror_mode": {
    "name": "ipython",
    "version": 3
   },
   "file_extension": ".py",
   "mimetype": "text/x-python",
   "name": "python",
   "nbconvert_exporter": "python",
   "pygments_lexer": "ipython3",
   "version": "3.8.13"
  },
  "orig_nbformat": 4,
  "vscode": {
   "interpreter": {
    "hash": "5fc8cc4423f23a87e418a855553ca5df0686e4c1b4502d1b16c3e8233d998187"
   }
  }
 },
 "nbformat": 4,
 "nbformat_minor": 2
}
